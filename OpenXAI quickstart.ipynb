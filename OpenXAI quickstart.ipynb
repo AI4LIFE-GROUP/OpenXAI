{
 "cells": [
  {
   "cell_type": "code",
   "execution_count": 1,
   "metadata": {},
   "outputs": [],
   "source": [
    "# Utils\n",
    "import torch\n",
    "import numpy as np\n",
    "\n",
    "# ML models\n",
    "from openxai.LoadModel import LoadModel\n",
    "\n",
    "# Data loaders\n",
    "import openxai.dataloader as return_loaders\n",
    "\n",
    "# Explanation models\n",
    "from openxai.Explainer import Explainer\n",
    "\n",
    "# Evaluation methods\n",
    "from.openxai.Evaluator import Evaluator"
   ]
  },
  {
   "cell_type": "code",
   "execution_count": 2,
   "metadata": {},
   "outputs": [],
   "source": [
    "# Choose the model and the data set you wish to generate explanations for\n",
    "data_loader_batch_size = 32\n",
    "data_name = 'adult' \n",
    "model_name = 'ann'"
   ]
  },
  {
   "cell_type": "markdown",
   "metadata": {},
   "source": [
    "### (0) Explanation method hyperparameters"
   ]
  },
  {
   "cell_type": "code",
   "execution_count": 3,
   "metadata": {},
   "outputs": [],
   "source": [
    "# Hyperparameters for Lime\n",
    "lime_mode = 'tabular'\n",
    "lime_sample_around_instance = True\n",
    "lime_kernel_width = 0.75\n",
    "lime_n_samples = 1000\n",
    "lime_discretize_continuous = False\n",
    "lime_standard_deviation = float(np.sqrt(0.03))"
   ]
  },
  {
   "cell_type": "markdown",
   "metadata": {},
   "source": [
    "### (1) Data Loaders"
   ]
  },
  {
   "cell_type": "code",
   "execution_count": 4,
   "metadata": {},
   "outputs": [],
   "source": [
    "# Get training and test loaders\n",
    "loader_train, loader_test = loaders.return_loaders(data_name=data_name,\n",
    "                                                   download=True,\n",
    "                                                   batch_size=data_loader_batch_size)\n",
    "data_iter = iter(loader_test)\n",
    "inputs, labels = data_iter.next()"
   ]
  },
  {
   "cell_type": "code",
   "execution_count": 5,
   "metadata": {},
   "outputs": [],
   "source": [
    "# get full training data set\n",
    "data_all = torch.FloatTensor(loader_train.dataset.data)"
   ]
  },
  {
   "cell_type": "markdown",
   "metadata": {},
   "source": [
    "### (2) Load a pretrained ML model"
   ]
  },
  {
   "cell_type": "code",
   "execution_count": 6,
   "metadata": {},
   "outputs": [],
   "source": [
    "# Load pretrained ml model\n",
    "model = LoadModel(data_name=data_name,\n",
    "                  ml_model=model_name,\n",
    "                  pretrained=True)"
   ]
  },
  {
   "cell_type": "markdown",
   "metadata": {},
   "source": [
    "### (3) Choose an explanation method"
   ]
  },
  {
   "cell_type": "markdown",
   "metadata": {},
   "source": [
    "#### I: Explanation method with particular hyperparameters (LIME)"
   ]
  },
  {
   "cell_type": "code",
   "execution_count": 7,
   "metadata": {},
   "outputs": [],
   "source": [
    "# You can supply your own set of hyperparameters like so:\n",
    "param_dict_lime = dict()\n",
    "param_dict_lime['dataset_tensor'] = data_all\n",
    "param_dict_lime['std'] = lime_standard_deviation\n",
    "param_dict_lime['mode'] = lime_mode\n",
    "param_dict_lime['sample_around_instance'] = lime_sample_around_instance\n",
    "param_dict_lime['kernel_width'] = lime_kernel_width\n",
    "param_dict_lime['n_samples'] = lime_n_samples\n",
    "param_dict_lime['discretize_continuous'] = lime_discretize_continuous\n",
    "lime = Explainer(method='lime',\n",
    "                 model=model,\n",
    "                 dataset_tensor=data_all,\n",
    "                 param_dict_lime=param_dict_lime)"
   ]
  },
  {
   "cell_type": "code",
   "execution_count": 8,
   "metadata": {},
   "outputs": [
    {
     "name": "stderr",
     "output_type": "stream",
     "text": [
      "100%|██████████████████████████████████████████████████████████████████████████████████| 32/32 [00:00<00:00, 88.74it/s]\n"
     ]
    }
   ],
   "source": [
    "lime_custom = lime.get_explanation(inputs, \n",
    "                                   label=labels)"
   ]
  },
  {
   "cell_type": "code",
   "execution_count": 9,
   "metadata": {},
   "outputs": [
    {
     "data": {
      "text/plain": [
       "tensor([ 0.1547,  0.0862,  0.4036,  0.7915,  0.1726,  0.1953,  0.0136, -0.0265,\n",
       "        -0.2166, -0.0555,  0.0358,  0.0211,  0.0024])"
      ]
     },
     "execution_count": 9,
     "metadata": {},
     "output_type": "execute_result"
    }
   ],
   "source": [
    "lime_custom[0,:]"
   ]
  },
  {
   "cell_type": "markdown",
   "metadata": {},
   "source": [
    "#### II: Explanation method with default hyperparameters (LIME)"
   ]
  },
  {
   "cell_type": "code",
   "execution_count": 10,
   "metadata": {},
   "outputs": [
    {
     "name": "stderr",
     "output_type": "stream",
     "text": [
      "100%|██████████████████████████████████████████████████████████████████████████████████| 32/32 [00:00<00:00, 87.67it/s]\n"
     ]
    },
    {
     "data": {
      "text/plain": [
       "tensor([ 0.1497,  0.0841,  0.4288,  0.8380,  0.1662,  0.1876,  0.0294,  0.0013,\n",
       "        -0.1977, -0.0070,  0.0115, -0.0198,  0.0198])"
      ]
     },
     "execution_count": 10,
     "metadata": {},
     "output_type": "execute_result"
    }
   ],
   "source": [
    "# You can also use the default hyperparameters likes so:\n",
    "lime = Explainer(method='lime',\n",
    "                 model=model,\n",
    "                 dataset_tensor=data_all,\n",
    "                 param_dict_lime=None)\n",
    "lime_default = lime.get_explanation(inputs.float(), \n",
    "                                    label=labels)\n",
    "lime_default[0,:]"
   ]
  },
  {
   "cell_type": "markdown",
   "metadata": {},
   "source": [
    "#### III: Explanation method with default hyperparameters (IG)"
   ]
  },
  {
   "cell_type": "code",
   "execution_count": 11,
   "metadata": {},
   "outputs": [
    {
     "data": {
      "text/plain": [
       "tensor([-0.0361, -0.0216, -0.0885, -0.1858, -0.0361, -0.0432, -0.0047,  0.0008,\n",
       "         0.0454,  0.0069, -0.0077,  0.0003, -0.0015], dtype=torch.float64)"
      ]
     },
     "execution_count": 11,
     "metadata": {},
     "output_type": "execute_result"
    }
   ],
   "source": [
    "# To use a different explanation method change the method name like so\n",
    "ig = Explainer(method='ig',\n",
    "               model=model,\n",
    "               dataset_tensor=data_all,\n",
    "               param_dict_lime=None)\n",
    "ig_default = ig.get_explanation(inputs.float(), \n",
    "                                label=labels)\n",
    "ig_default[0,:]"
   ]
  },
  {
   "cell_type": "markdown",
   "metadata": {},
   "source": [
    "### (4) Choose an evaluation metric"
   ]
  },
  {
   "cell_type": "code",
   "execution_count": null,
   "metadata": {},
   "outputs": [],
   "source": [
    "evaluator = Evaluator(input_dict: dict,\n",
    "                      inputs=inputs,\n",
    "                      labels=labels, \n",
    "                      model=model, \n",
    "                      explainer=lime_default)"
   ]
  },
  {
   "cell_type": "code",
   "execution_count": null,
   "metadata": {},
   "outputs": [],
   "source": [
    "# evaluate pairwise comparison\n",
    "evaluator(metric='PRA')"
   ]
  },
  {
   "cell_type": "code",
   "execution_count": null,
   "metadata": {},
   "outputs": [],
   "source": [
    "# evaluate rankcorrelation\n",
    "evaluator(metric='RC')"
   ]
  }
 ],
 "metadata": {
  "kernelspec": {
   "display_name": "Python 3",
   "language": "python",
   "name": "python3"
  },
  "language_info": {
   "codemirror_mode": {
    "name": "ipython",
    "version": 3
   },
   "file_extension": ".py",
   "mimetype": "text/x-python",
   "name": "python",
   "nbconvert_exporter": "python",
   "pygments_lexer": "ipython3",
   "version": "3.6.8"
  }
 },
 "nbformat": 4,
 "nbformat_minor": 4
}
