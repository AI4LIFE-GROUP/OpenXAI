{
 "cells": [
  {
   "cell_type": "code",
   "execution_count": 89,
   "metadata": {},
   "outputs": [],
   "source": [
    "import matplotlib.pyplot as plt\n",
    "import numpy as np\n",
    "\n",
    "%matplotlib inline\n",
    "\n",
    "import torch\n",
    "import torchvision\n",
    "import torchvision.transforms as transforms\n",
    "import torchvision.transforms.functional as TF\n",
    "\n",
    "from torchvision import models\n",
    "\n",
    "from explainers.grad import Gradient\n",
    "from evaluator import Evaluator"
   ]
  },
  {
   "cell_type": "code",
   "execution_count": 90,
   "metadata": {},
   "outputs": [],
   "source": [
    "import os\n",
    "os.environ['KMP_DUPLICATE_LIB_OK']='True'"
   ]
  },
  {
   "cell_type": "code",
   "execution_count": 91,
   "metadata": {},
   "outputs": [],
   "source": [
    "pre = os.getcwd()"
   ]
  },
  {
   "cell_type": "code",
   "execution_count": 92,
   "metadata": {},
   "outputs": [],
   "source": [
    "pytorch_model = models.vgg16(pretrained=True)\n",
    "device = 'cpu'"
   ]
  },
  {
   "cell_type": "code",
   "execution_count": 93,
   "metadata": {},
   "outputs": [
    {
     "name": "stdout",
     "output_type": "stream",
     "text": [
      "Files already downloaded and verified\n",
      "Files already downloaded and verified\n"
     ]
    }
   ],
   "source": [
    "transform = transforms.Compose(\n",
    "    [transforms.ToTensor(),\n",
    "     transforms.Normalize((0.5, 0.5, 0.5), (0.5, 0.5, 0.5))])\n",
    "\n",
    "trainset = torchvision.datasets.CIFAR10(root='./data', train=True,\n",
    "                                        download=True, transform=transform)\n",
    "trainloader = torch.utils.data.DataLoader(trainset, batch_size=4,\n",
    "                                          shuffle=True, num_workers=2)\n",
    "\n",
    "testset = torchvision.datasets.CIFAR10(root='./data', train=False,\n",
    "                                       download=True, transform=transform)\n",
    "testloader = torch.utils.data.DataLoader(testset, batch_size=4,\n",
    "                                         shuffle=False, num_workers=2)\n",
    "\n",
    "classes = ('plane', 'car', 'bird', 'cat',\n",
    "           'deer', 'dog', 'frog', 'horse', 'ship', 'truck')"
   ]
  },
  {
   "cell_type": "code",
   "execution_count": 94,
   "metadata": {},
   "outputs": [],
   "source": [
    "import torch.nn as nn\n",
    "import torch.nn.functional as F\n",
    "\n",
    "\n",
    "class Net(nn.Module):\n",
    "    def __init__(self):\n",
    "        super(Net, self).__init__()\n",
    "        self.conv1 = nn.Conv2d(3, 6, 5)\n",
    "        self.pool1 = nn.MaxPool2d(2, 2)\n",
    "        self.pool2 = nn.MaxPool2d(2, 2)\n",
    "        self.conv2 = nn.Conv2d(6, 16, 5)\n",
    "        self.fc1 = nn.Linear(16 * 5 * 5, 120)\n",
    "        self.fc2 = nn.Linear(120, 84)\n",
    "        self.fc3 = nn.Linear(84, 10)\n",
    "        self.relu1 = nn.ReLU()\n",
    "        self.relu2 = nn.ReLU()\n",
    "        self.relu3 = nn.ReLU()\n",
    "        self.relu4 = nn.ReLU()\n",
    "\n",
    "    def forward(self, x):\n",
    "        x = self.pool1(self.relu1(self.conv1(x)))\n",
    "        x = self.pool2(self.relu2(self.conv2(x)))\n",
    "        x = x.view(-1, 16 * 5 * 5)\n",
    "        x = self.relu3(self.fc1(x))\n",
    "        x = self.relu4(self.fc2(x))\n",
    "        x = self.fc3(x)\n",
    "        return x\n",
    "    \n",
    "    def L_relu3(self, x):\n",
    "        x = self.pool1(self.relu1(self.conv1(x)))\n",
    "        x = self.pool2(self.relu2(self.conv2(x)))\n",
    "        x = x.view(-1, 16 * 5 * 5)\n",
    "        x = self.relu3(self.fc1(x))\n",
    "        return x\n",
    "\n",
    "\n",
    "net = Net()"
   ]
  },
  {
   "cell_type": "code",
   "execution_count": 95,
   "metadata": {},
   "outputs": [],
   "source": [
    "import torch.optim as optim\n",
    "\n",
    "criterion = nn.CrossEntropyLoss()\n",
    "optimizer = optim.SGD(net.parameters(), lr=0.001, momentum=0.9)"
   ]
  },
  {
   "cell_type": "code",
   "execution_count": 96,
   "metadata": {},
   "outputs": [
    {
     "name": "stdout",
     "output_type": "stream",
     "text": [
      "Using existing trained model\n"
     ]
    }
   ],
   "source": [
    "USE_PRETRAINED_MODEL = True\n",
    "\n",
    "if USE_PRETRAINED_MODEL:\n",
    "    print(\"Using existing trained model\")\n",
    "    net.load_state_dict(torch.load('ML_Models/Saved_Models/ANN/cifar_torchvision.pt'))\n",
    "else:\n",
    "    for epoch in range(5):  # loop over the dataset multiple times\n",
    "\n",
    "        running_loss = 0.0\n",
    "        for i, data in enumerate(trainloader, 0):\n",
    "            # get the inputs\n",
    "            inputs, labels = data\n",
    "            # zero the parameter gradients\n",
    "            optimizer.zero_grad()\n",
    "\n",
    "            # forward + backward + optimize\n",
    "            outputs = net(inputs)\n",
    "            loss = criterion(outputs, labels)\n",
    "            loss.backward()\n",
    "            optimizer.step()\n",
    "\n",
    "            # print statistics\n",
    "            running_loss += loss.item()\n",
    "            if i % 2000 == 1999:    # print every 2000 mini-batches\n",
    "                print('[%d, %5d] loss: %.3f' %\n",
    "                      (epoch + 1, i + 1, running_loss / 2000))\n",
    "                running_loss = 0.0\n",
    "\n",
    "    print('Finished Training')\n",
    "    torch.save(net.state_dict(), 'ML_Models/Saved_Models/ANN/cifar_torchvision.pt')"
   ]
  },
  {
   "cell_type": "code",
   "execution_count": 97,
   "metadata": {},
   "outputs": [
    {
     "data": {
      "text/plain": [
       "Net(\n",
       "  (conv1): Conv2d(3, 6, kernel_size=(5, 5), stride=(1, 1))\n",
       "  (pool1): MaxPool2d(kernel_size=2, stride=2, padding=0, dilation=1, ceil_mode=False)\n",
       "  (pool2): MaxPool2d(kernel_size=2, stride=2, padding=0, dilation=1, ceil_mode=False)\n",
       "  (conv2): Conv2d(6, 16, kernel_size=(5, 5), stride=(1, 1))\n",
       "  (fc1): Linear(in_features=400, out_features=120, bias=True)\n",
       "  (fc2): Linear(in_features=120, out_features=84, bias=True)\n",
       "  (fc3): Linear(in_features=84, out_features=10, bias=True)\n",
       "  (relu1): ReLU()\n",
       "  (relu2): ReLU()\n",
       "  (relu3): ReLU()\n",
       "  (relu4): ReLU()\n",
       ")"
      ]
     },
     "execution_count": 97,
     "metadata": {},
     "output_type": "execute_result"
    }
   ],
   "source": [
    "net.eval()"
   ]
  },
  {
   "cell_type": "code",
   "execution_count": 98,
   "metadata": {},
   "outputs": [
    {
     "data": {
      "image/png": "[encoded data removed]",
      "text/plain": [
       "<Figure size 432x288 with 1 Axes>"
      ]
     },
     "metadata": {
      "needs_background": "light"
     },
     "output_type": "display_data"
    },
    {
     "name": "stdout",
     "output_type": "stream",
     "text": [
      "GroundTruth:    cat  ship  ship plane\n",
      "Predicted:    cat   car   car  ship\n"
     ]
    }
   ],
   "source": [
    "def imshow(img, transpose = True):\n",
    "    img = img / 2 + 0.5     # unnormalize\n",
    "    npimg = img.numpy()\n",
    "    plt.imshow(np.transpose(npimg, (1, 2, 0)))\n",
    "    plt.show()\n",
    "\n",
    "dataiter = iter(testloader)\n",
    "images, labels = dataiter.next()\n",
    "\n",
    "# print images\n",
    "imshow(torchvision.utils.make_grid(images))\n",
    "print('GroundTruth: ', ' '.join('%5s' % classes[labels[j]] for j in range(4)))\n",
    "\n",
    "\n",
    "outputs = net(images)\n",
    "\n",
    "_, predicted = torch.max(outputs, 1)\n",
    "\n",
    "print('Predicted: ', ' '.join('%5s' % classes[predicted[j]]\n",
    "                              for j in range(4)))"
   ]
  },
  {
   "cell_type": "code",
   "execution_count": 99,
   "metadata": {},
   "outputs": [],
   "source": [
    "ind = 3\n",
    "\n",
    "input = images[ind].unsqueeze(0)\n",
    "input.requires_grad = True"
   ]
  },
  {
   "cell_type": "code",
   "execution_count": 100,
   "metadata": {},
   "outputs": [],
   "source": [
    "for i, data in enumerate(trainloader, 0):\n",
    "    # get the inputs\n",
    "    inputs, labels = data\n",
    "    break"
   ]
  },
  {
   "cell_type": "code",
   "execution_count": 101,
   "metadata": {},
   "outputs": [
    {
     "data": {
      "text/plain": [
       "torch.Size([4, 3, 32, 32])"
      ]
     },
     "execution_count": 101,
     "metadata": {},
     "output_type": "execute_result"
    }
   ],
   "source": [
    "grad = Gradient(net)\n",
    "grad_exp = grad.get_explanation(inputs, labels)\n",
    "grad_exp.shape"
   ]
  },
  {
   "cell_type": "code",
   "execution_count": 102,
   "metadata": {},
   "outputs": [
    {
     "data": {
      "text/plain": [
       "torch.int64"
      ]
     },
     "execution_count": 102,
     "metadata": {},
     "output_type": "execute_result"
    }
   ],
   "source": [
    "labels.dtype"
   ]
  },
  {
   "cell_type": "code",
   "execution_count": 103,
   "metadata": {},
   "outputs": [
    {
     "data": {
      "text/plain": [
       "torch.float32"
      ]
     },
     "execution_count": 103,
     "metadata": {},
     "output_type": "execute_result"
    }
   ],
   "source": [
    "inputs.dtype"
   ]
  },
  {
   "cell_type": "code",
   "execution_count": null,
   "metadata": {},
   "outputs": [],
   "source": []
  },
  {
   "cell_type": "code",
   "execution_count": 104,
   "metadata": {},
   "outputs": [],
   "source": [
    "class MockPerturbationClass():\n",
    "    def __init__(self):\n",
    "        self.temp = 'mocked'\n",
    "        \n",
    "    def get_perturbed_inputs(self, x, top_k, explanation_x, num_samples):\n",
    "        samples = []\n",
    "        for n in range(num_samples):\n",
    "            samples.append(torch.randn(size=x.shape))\n",
    "        return torch.stack(samples)"
   ]
  },
  {
   "cell_type": "code",
   "execution_count": 105,
   "metadata": {},
   "outputs": [],
   "source": [
    "L_conv1 = net.conv1\n",
    "L_relu3 = net.L_relu3"
   ]
  },
  {
   "cell_type": "code",
   "execution_count": null,
   "metadata": {},
   "outputs": [],
   "source": []
  },
  {
   "cell_type": "code",
   "execution_count": 106,
   "metadata": {},
   "outputs": [
    {
     "data": {
      "text/plain": [
       "\"\\nclass OrchestratorClass():\\n    def __init__(self, explanation_method, explainee_model, perturbation_method, evaluation_metric: str):\\n        \\n        self.explanation_method = explanation_method\\n        self.perturbation_method = perturbation_method\\n        self.explainee_model = explainee_model\\n        self.evaluation_metric = evaluation_metric\\n        \\n         \\n    def get_explanation(self, explainee_input):\\n        \\n        Return explanation for the given model and input data point\\n        \\n        explanation = self.explanation_method.get_explanation(explainee_input, inputs, labels, self.explainee_model)\\n        \\n        return explanation \\n    \\n    \\n\\n    def _to_input_dict(self, sample: torch.FloatTensor, label: torch.tensor, \\n                       is_image_data: bool=True, p_norm: int=2, top_k: int=1) -> dict:\\n        \\n        \\n        \\n        input_dict = {}\\n        \\n        if image_data:\\n            input_dict['x'] = sample.unsqueeze(0)\\n        else:\\n            input_dict['x'] = sample\\n\\n        input_dict['explainer'] = self.explanation_method\\n        input_dict['explanation_x'] = explanation\\n        input_dict['perturbation'] = self.perturbation_method\\n\\n        \\n        input_dict['L_map'] = L_relu3\\n        \\n        \\n        input_dict['p_norm'] = p_norm\\n        input_dict['top_k'] = top_k\\n        input_dict['y'] = label.detach().item()\\n        \\n        input_dict['y_pred'] = torch.max(self.explainee_model(input_dict['x']), 1).indices.detach().item()\\n\\n        return input_dict\\n\\n    def evaluate_explanation(self, explainee_input, ground_truth_dict=None):\\n\\n\\n        Evaluates explanation\\n        \\n        x = inputs[i]\\n        y = labels[i]\\n        self._to_input_dict(x, y, inputs, labels, tabular=True)\\n\\n        return evaluations\\n\""
      ]
     },
     "execution_count": 106,
     "metadata": {},
     "output_type": "execute_result"
    }
   ],
   "source": [
    "'''\n",
    "class OrchestratorClass():\n",
    "    def __init__(self, explanation_method, explainee_model, perturbation_method, evaluation_metric: str):\n",
    "        \n",
    "        self.explanation_method = explanation_method\n",
    "        self.perturbation_method = perturbation_method\n",
    "        self.explainee_model = explainee_model\n",
    "        self.evaluation_metric = evaluation_metric\n",
    "        \n",
    "         \n",
    "    def get_explanation(self, explainee_input):\n",
    "        \n",
    "        Return explanation for the given model and input data point\n",
    "        \n",
    "        explanation = self.explanation_method.get_explanation(explainee_input, inputs, labels, self.explainee_model)\n",
    "        \n",
    "        return explanation \n",
    "    \n",
    "    \n",
    "\n",
    "    def _to_input_dict(self, sample: torch.FloatTensor, label: torch.tensor, \n",
    "                       is_image_data: bool=True, p_norm: int=2, top_k: int=1) -> dict:\n",
    "        \n",
    "        \n",
    "        \n",
    "        input_dict = {}\n",
    "        \n",
    "        if image_data:\n",
    "            input_dict['x'] = sample.unsqueeze(0)\n",
    "        else:\n",
    "            input_dict['x'] = sample\n",
    "\n",
    "        input_dict['explainer'] = self.explanation_method\n",
    "        input_dict['explanation_x'] = explanation\n",
    "        input_dict['perturbation'] = self.perturbation_method\n",
    "\n",
    "        \n",
    "        input_dict['L_map'] = L_relu3\n",
    "        \n",
    "        \n",
    "        input_dict['p_norm'] = p_norm\n",
    "        input_dict['top_k'] = top_k\n",
    "        input_dict['y'] = label.detach().item()\n",
    "        \n",
    "        input_dict['y_pred'] = torch.max(self.explainee_model(input_dict['x']), 1).indices.detach().item()\n",
    "\n",
    "        return input_dict\n",
    "\n",
    "    def evaluate_explanation(self, explainee_input, ground_truth_dict=None):\n",
    "\n",
    "\n",
    "        Evaluates explanation\n",
    "        \n",
    "        x = inputs[i]\n",
    "        y = labels[i]\n",
    "        self._to_input_dict(x, y, inputs, labels, tabular=True)\n",
    "\n",
    "        return evaluations\n",
    "'''"
   ]
  },
  {
   "cell_type": "code",
   "execution_count": null,
   "metadata": {},
   "outputs": [],
   "source": []
  },
  {
   "cell_type": "code",
   "execution_count": 107,
   "metadata": {},
   "outputs": [
    {
     "data": {
      "text/plain": [
       "\"\\n# params for synthetic data    \\nparams = {\\n'n_samples': 1000,\\n'dim': 20,\\n'n_clusters': 10,\\n'distance_to_center': 6,\\n'test_size': 0.25,\\n'upper_weight': 1,\\n'lower_weight': -1,\\n'seed': 564,\\n'sigma': None,\\n'sparsity': 0.25\\n}\\n\\n\\nloader_train_gauss, loader_test_gauss = loaders.return_loaders(data_name='gaussian', is_tabular=True,\\n                                                               batch_size=5, gauss_params=params)\\n\\n\\ngauss_train_input = loader_train_gauss.dataset.ground_truth_dict\\ndata_iter = iter(loader_train_gauss)\\ninput, labels, weights, masks, masked_weights, probs, cluster_idx = data_iter.next()\\n\\nmodel_path = 'ML_Models/Saved_Models/ANN/gaussian_lr_0.002_acc_0.89.pt'\\nann = model_ann.ANN(20, hidden_layer_1=100, num_of_classes=1)\\nann.load_state_dict(torch.load(model_path, map_location=torch.device('cpu'))) \\n\\nexplanation_method = get_explanation()\\nexplainee_model = ann\\nevaluation_metric = 'f1@k'\\nperturbation_method\\n\\norchestra = OrchestratorClass(explanation_method, explainee_model, evaluation_metric, perturbation_method)\\n\""
      ]
     },
     "execution_count": 107,
     "metadata": {},
     "output_type": "execute_result"
    }
   ],
   "source": [
    "'''\n",
    "# params for synthetic data    \n",
    "params = {\n",
    "'n_samples': 1000,\n",
    "'dim': 20,\n",
    "'n_clusters': 10,\n",
    "'distance_to_center': 6,\n",
    "'test_size': 0.25,\n",
    "'upper_weight': 1,\n",
    "'lower_weight': -1,\n",
    "'seed': 564,\n",
    "'sigma': None,\n",
    "'sparsity': 0.25\n",
    "}\n",
    "\n",
    "\n",
    "loader_train_gauss, loader_test_gauss = loaders.return_loaders(data_name='gaussian', is_tabular=True,\n",
    "                                                               batch_size=5, gauss_params=params)\n",
    "\n",
    "\n",
    "gauss_train_input = loader_train_gauss.dataset.ground_truth_dict\n",
    "data_iter = iter(loader_train_gauss)\n",
    "input, labels, weights, masks, masked_weights, probs, cluster_idx = data_iter.next()\n",
    "\n",
    "model_path = 'ML_Models/Saved_Models/ANN/gaussian_lr_0.002_acc_0.89.pt'\n",
    "ann = model_ann.ANN(20, hidden_layer_1=100, num_of_classes=1)\n",
    "ann.load_state_dict(torch.load(model_path, map_location=torch.device('cpu'))) \n",
    "\n",
    "explanation_method = get_explanation()\n",
    "explainee_model = ann\n",
    "evaluation_metric = 'f1@k'\n",
    "perturbation_method\n",
    "\n",
    "orchestra = OrchestratorClass(explanation_method, explainee_model, evaluation_metric, perturbation_method)\n",
    "'''"
   ]
  },
  {
   "cell_type": "code",
   "execution_count": null,
   "metadata": {},
   "outputs": [],
   "source": []
  },
  {
   "cell_type": "code",
   "execution_count": 108,
   "metadata": {},
   "outputs": [],
   "source": [
    "input_dict = {}\n",
    "\n",
    "input_dict['x'] = inputs[0].unsqueeze(0)\n",
    "input_dict['explainer'] = grad\n",
    "input_dict['explanation_x'] = grad.get_explanation(inputs, labels)[0]\n",
    "perturbation = MockPerturbationClass()\n",
    "input_dict['perturbation'] = perturbation\n",
    "input_dict['L_map'] = L_relu3\n",
    "input_dict['p_norm'] = 2\n",
    "input_dict['top_k'] = 1\n",
    "input_dict['y'] = labels[0].detach().item()\n",
    "input_dict['y_pred'] = torch.max(net(inputs[0].unsqueeze(0)), 1).indices.detach().item()"
   ]
  },
  {
   "cell_type": "code",
   "execution_count": 109,
   "metadata": {},
   "outputs": [
    {
     "data": {
      "text/plain": [
       "torch.Size([4, 3, 32, 32])"
      ]
     },
     "execution_count": 109,
     "metadata": {},
     "output_type": "execute_result"
    }
   ],
   "source": [
    "inputs.shape"
   ]
  },
  {
   "cell_type": "code",
   "execution_count": 110,
   "metadata": {},
   "outputs": [],
   "source": [
    "def to_input_dict(self, inputs, labels, tabular=True):\n",
    "    \n",
    "    input_dict = {}\n",
    "\n",
    "    input_dict['x'] = inputs[0].unsqueeze(0)\n",
    "    input_dict['explainer'] = grad\n",
    "    input_dict['explanation_x'] = self.explanation_method.get_explanation(inputs, labels)[0]\n",
    "    perturbation = MockPerturbationClass()\n",
    "    input_dict['perturbation'] = perturbation\n",
    "    input_dict['L_map'] = L_relu3\n",
    "    input_dict['p_norm'] = 2\n",
    "    input_dict['top_k'] = 1\n",
    "    input_dict['y'] = labels[0].detach().item()\n",
    "    input_dict['y_pred'] = torch.max(net(inputs[0].unsqueeze(0)), 1).indices.detach().item()\n",
    "    \n",
    "    return input_dict"
   ]
  },
  {
   "cell_type": "code",
   "execution_count": 111,
   "metadata": {},
   "outputs": [],
   "source": [
    "evaluator = Evaluator(input_dict)\n",
    "stability, stability_ratios, rep_diffs, x_diffs, exp_diffs = evaluator.eval_relative_stability(delta=1e10)"
   ]
  },
  {
   "cell_type": "code",
   "execution_count": 112,
   "metadata": {},
   "outputs": [
    {
     "data": {
      "text/plain": [
       "nan"
      ]
     },
     "execution_count": 112,
     "metadata": {},
     "output_type": "execute_result"
    }
   ],
   "source": [
    "stability"
   ]
  },
  {
   "cell_type": "code",
   "execution_count": 113,
   "metadata": {},
   "outputs": [
    {
     "data": {
      "text/plain": [
       "[1165.4142,\n",
       " 917.32074,\n",
       " 774.867,\n",
       " 855.88513,\n",
       " 910.2006,\n",
       " 861.2303,\n",
       " 868.153,\n",
       " 672.3487,\n",
       " 951.70306,\n",
       " 802.99316,\n",
       " 885.5538,\n",
       " 571.43646,\n",
       " 1023.54895,\n",
       " 781.71564,\n",
       " 925.37994,\n",
       " 1011.82043,\n",
       " 916.86145,\n",
       " 874.142,\n",
       " 670.418,\n",
       " 721.90375,\n",
       " 826.7138,\n",
       " 722.6005,\n",
       " 1033.1472,\n",
       " 922.31714,\n",
       " 770.45917,\n",
       " 980.83813,\n",
       " 726.8382,\n",
       " 865.2515,\n",
       " 757.72577,\n",
       " 584.57697,\n",
       " 1028.8606,\n",
       " 1073.7543,\n",
       " 991.36237,\n",
       " 725.5873,\n",
       " 690.5589,\n",
       " 718.6854,\n",
       " 908.1405,\n",
       " 873.29944,\n",
       " 940.4685,\n",
       " 834.28156,\n",
       " 702.318,\n",
       " 884.3806,\n",
       " 833.40564,\n",
       " 902.5446,\n",
       " 908.24036,\n",
       " 723.0918,\n",
       " 769.8937,\n",
       " 869.08685,\n",
       " 943.328,\n",
       " 655.4141,\n",
       " 796.6824,\n",
       " 918.321,\n",
       " 1126.5675,\n",
       " 839.71124,\n",
       " 807.26764,\n",
       " 730.7883,\n",
       " 907.57886,\n",
       " 1006.93176,\n",
       " 874.4584,\n",
       " 651.7878,\n",
       " 765.9315,\n",
       " 824.94495,\n",
       " 737.34863,\n",
       " 597.1584,\n",
       " 970.9138,\n",
       " 1117.3066,\n",
       " 886.0883,\n",
       " 899.6591,\n",
       " 838.3593,\n",
       " 585.80096,\n",
       " 877.0578,\n",
       " 854.2511,\n",
       " 1013.6995,\n",
       " 996.3924,\n",
       " 869.53314,\n",
       " 645.4301,\n",
       " 911.8502,\n",
       " 832.01245,\n",
       " 747.0058,\n",
       " 829.4821,\n",
       " 674.744,\n",
       " 720.8981,\n",
       " 1146.8872,\n",
       " 806.47375,\n",
       " 981.5256,\n",
       " 663.90076,\n",
       " 715.89075,\n",
       " 728.172,\n",
       " 853.15094,\n",
       " 741.7171,\n",
       " 780.16455,\n",
       " 714.18835,\n",
       " 1022.13214,\n",
       " 882.5957,\n",
       " 767.0801,\n",
       " 1035.139,\n",
       " 818.89575,\n",
       " 855.0484,\n",
       " 869.935,\n",
       " 853.7356]"
      ]
     },
     "execution_count": 113,
     "metadata": {},
     "output_type": "execute_result"
    }
   ],
   "source": [
    "x_diffs"
   ]
  },
  {
   "cell_type": "code",
   "execution_count": 114,
   "metadata": {},
   "outputs": [
    {
     "data": {
      "text/plain": [
       "[7.3186493,\n",
       " 5.781203,\n",
       " 5.8339224,\n",
       " 5.209068,\n",
       " 7.494627,\n",
       " 7.9787006,\n",
       " 6.1198335,\n",
       " 7.17532,\n",
       " 7.675952,\n",
       " 15.178774,\n",
       " 10.807332,\n",
       " 5.735431,\n",
       " 7.8260975,\n",
       " 11.212874,\n",
       " 7.9716606,\n",
       " 5.75737,\n",
       " 7.535344,\n",
       " 7.149913,\n",
       " 6.464566,\n",
       " 6.3138556,\n",
       " 9.263494,\n",
       " 6.1709003,\n",
       " 14.57537,\n",
       " 10.544187,\n",
       " 11.856489,\n",
       " 8.381669,\n",
       " 6.2920465,\n",
       " 7.037812,\n",
       " 8.491072,\n",
       " 5.4016614,\n",
       " 11.942797,\n",
       " 5.733699,\n",
       " 5.976117,\n",
       " 5.2099166,\n",
       " 10.173788,\n",
       " 7.173657,\n",
       " 9.287292,\n",
       " 7.178534,\n",
       " 6.0423183,\n",
       " 12.138535,\n",
       " 5.5887218,\n",
       " 7.208973,\n",
       " 10.930621,\n",
       " 9.473107,\n",
       " 8.7365885,\n",
       " 5.668838,\n",
       " 5.12234,\n",
       " 13.035855,\n",
       " 9.303516,\n",
       " 11.099979,\n",
       " 7.3612256,\n",
       " 5.822211,\n",
       " 13.42535,\n",
       " 6.7800035,\n",
       " 10.545009,\n",
       " 9.321807,\n",
       " 6.1271114,\n",
       " 6.0402904,\n",
       " 6.170882,\n",
       " 8.387548,\n",
       " 10.254461,\n",
       " 8.898237,\n",
       " 7.617425,\n",
       " 7.9310865,\n",
       " 15.655804,\n",
       " 9.3869,\n",
       " 6.2667136,\n",
       " 6.425278,\n",
       " 7.0966516,\n",
       " 7.766191,\n",
       " 6.518595,\n",
       " 11.4649105,\n",
       " 7.394905,\n",
       " 6.9302115,\n",
       " 6.3986216,\n",
       " 6.798546,\n",
       " 6.6379046,\n",
       " 12.153631,\n",
       " 14.757267,\n",
       " 5.828326,\n",
       " 5.9173307,\n",
       " 6.4192004,\n",
       " 9.37142,\n",
       " 8.655089,\n",
       " 6.826239,\n",
       " 8.012067,\n",
       " 5.8849626,\n",
       " 11.194734,\n",
       " 6.926725,\n",
       " 11.170132,\n",
       " 8.48508,\n",
       " 8.035022,\n",
       " 8.575935,\n",
       " 8.645153,\n",
       " 18.522484,\n",
       " 5.4763055,\n",
       " 8.742516,\n",
       " 11.069923,\n",
       " 8.279334,\n",
       " 5.424789]"
      ]
     },
     "execution_count": 114,
     "metadata": {},
     "output_type": "execute_result"
    }
   ],
   "source": [
    "## output of ReLu3\n",
    "\n",
    "rep_diffs"
   ]
  },
  {
   "cell_type": "code",
   "execution_count": 115,
   "metadata": {},
   "outputs": [
    {
     "data": {
      "text/plain": [
       "[7.3186493,\n",
       " 5.781203,\n",
       " 5.8339224,\n",
       " 5.209068,\n",
       " 7.494627,\n",
       " 7.9787006,\n",
       " 6.1198335,\n",
       " 7.17532,\n",
       " 7.675952,\n",
       " 15.178774,\n",
       " 10.807332,\n",
       " 5.735431,\n",
       " 7.8260975,\n",
       " 11.212874,\n",
       " 7.9716606,\n",
       " 5.75737,\n",
       " 7.535344,\n",
       " 7.149913,\n",
       " 6.464566,\n",
       " 6.3138556,\n",
       " 9.263494,\n",
       " 6.1709003,\n",
       " 14.57537,\n",
       " 10.544187,\n",
       " 11.856489,\n",
       " 8.381669,\n",
       " 6.2920465,\n",
       " 7.037812,\n",
       " 8.491072,\n",
       " 5.4016614,\n",
       " 11.942797,\n",
       " 5.733699,\n",
       " 5.976117,\n",
       " 5.2099166,\n",
       " 10.173788,\n",
       " 7.173657,\n",
       " 9.287292,\n",
       " 7.178534,\n",
       " 6.0423183,\n",
       " 12.138535,\n",
       " 5.5887218,\n",
       " 7.208973,\n",
       " 10.930621,\n",
       " 9.473107,\n",
       " 8.7365885,\n",
       " 5.668838,\n",
       " 5.12234,\n",
       " 13.035855,\n",
       " 9.303516,\n",
       " 11.099979,\n",
       " 7.3612256,\n",
       " 5.822211,\n",
       " 13.42535,\n",
       " 6.7800035,\n",
       " 10.545009,\n",
       " 9.321807,\n",
       " 6.1271114,\n",
       " 6.0402904,\n",
       " 6.170882,\n",
       " 8.387548,\n",
       " 10.254461,\n",
       " 8.898237,\n",
       " 7.617425,\n",
       " 7.9310865,\n",
       " 15.655804,\n",
       " 9.3869,\n",
       " 6.2667136,\n",
       " 6.425278,\n",
       " 7.0966516,\n",
       " 7.766191,\n",
       " 6.518595,\n",
       " 11.4649105,\n",
       " 7.394905,\n",
       " 6.9302115,\n",
       " 6.3986216,\n",
       " 6.798546,\n",
       " 6.6379046,\n",
       " 12.153631,\n",
       " 14.757267,\n",
       " 5.828326,\n",
       " 5.9173307,\n",
       " 6.4192004,\n",
       " 9.37142,\n",
       " 8.655089,\n",
       " 6.826239,\n",
       " 8.012067,\n",
       " 5.8849626,\n",
       " 11.194734,\n",
       " 6.926725,\n",
       " 11.170132,\n",
       " 8.48508,\n",
       " 8.035022,\n",
       " 8.575935,\n",
       " 8.645153,\n",
       " 18.522484,\n",
       " 5.4763055,\n",
       " 8.742516,\n",
       " 11.069923,\n",
       " 8.279334,\n",
       " 5.424789]"
      ]
     },
     "execution_count": 115,
     "metadata": {},
     "output_type": "execute_result"
    }
   ],
   "source": [
    "## output of first conv layer\n",
    "\n",
    "rep_diffs"
   ]
  },
  {
   "cell_type": "code",
   "execution_count": 116,
   "metadata": {},
   "outputs": [
    {
     "data": {
      "text/plain": [
       "<__main__.MockPerturbationClass at 0x2622e46def0>"
      ]
     },
     "execution_count": 116,
     "metadata": {},
     "output_type": "execute_result"
    }
   ],
   "source": [
    "evaluator.perturbation"
   ]
  },
  {
   "cell_type": "code",
   "execution_count": null,
   "metadata": {},
   "outputs": [],
   "source": []
  }
 ],
 "metadata": {
  "kernelspec": {
   "display_name": "Python 3",
   "language": "python",
   "name": "python3"
  },
  "language_info": {
   "codemirror_mode": {
    "name": "ipython",
    "version": 3
   },
   "file_extension": ".py",
   "mimetype": "text/x-python",
   "name": "python",
   "nbconvert_exporter": "python",
   "pygments_lexer": "ipython3",
   "version": "3.6.8"
  }
 },
 "nbformat": 4,
 "nbformat_minor": 5
}
