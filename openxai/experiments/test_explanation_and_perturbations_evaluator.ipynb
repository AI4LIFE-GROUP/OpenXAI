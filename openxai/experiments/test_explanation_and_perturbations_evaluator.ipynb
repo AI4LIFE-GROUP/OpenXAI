{
 "cells": [
  {
   "cell_type": "code",
   "execution_count": 1,
   "metadata": {},
   "outputs": [],
   "source": [
    "import pandas as pd\n",
    "\n",
    "# ANN models\n",
    "import torch\n",
    "import ML_Models.ANN.model as model_ann\n",
    "\n",
    "# (Train & Test) Loaders\n",
    "import ML_Models.data_loader as loaders\n",
    "\n",
    "# Explanation Models\n",
    "from explainers.lime import LIME\n",
    "from explainers.shap_explainer import SHAPExplainer\n",
    "from explainers.grad import Gradient\n",
    "from explainers.ebp import EBP\n",
    "from explainers.integrated_gradients import IntegratedGradients\n",
    "from explainers.guided_backprop import GuidedBackprop\n",
    "from explainers.smoothgrad import SmoothGrad\n",
    "from explainers.gradcam import GradCAM\n",
    "from explainers.guided_gradcam import GuidedGradCAM\n",
    "from explainers.lrp import LRP\n",
    "from explainers.input_x_gradient import InputTimesGradient\n",
    "\n",
    "# Perturbation Methods\n",
    "import torch.distributions as tdist\n",
    "from explainers.perturbation_methods import RandomPerturbation\n",
    "from explainers.perturbation_methods import UniformPerturbation\n",
    "from explainers.perturbation_methods import BootstrapPerturbation\n",
    "from explainers.perturbation_methods import MarginalPerturbation\n",
    "from explainers.perturbation_methods import AdversarialPerturbation\n",
    "\n",
    "# Import Evaluation Methods\n",
    "from evaluator import Evaluator\n",
    "\n",
    "# lime utils\n",
    "import matplotlib.pyplot as plt\n",
    "from PIL import Image\n",
    "import torch.nn as nn\n",
    "import numpy as np\n",
    "import os, json\n",
    "\n",
    "# torch utils\n",
    "import torch\n",
    "from torchvision import models, transforms\n",
    "from torch.autograd import Variable\n",
    "import torch.nn.functional as F"
   ]
  },
  {
   "cell_type": "code",
   "execution_count": 2,
   "metadata": {},
   "outputs": [],
   "source": [
    "import os"
   ]
  },
  {
   "cell_type": "code",
   "execution_count": 3,
   "metadata": {},
   "outputs": [],
   "source": [
    "'''\n",
    "Loading Data Loaders\n",
    "'''\n",
    "\n",
    "# this has to be fixed for the moment as the ANN model is trained on this data\n",
    "\n",
    "params = {\n",
    "    'n_samples': 1000,\n",
    "    'dim': 20,\n",
    "    'n_clusters': 10,\n",
    "    'distance_to_center': 6,\n",
    "    'test_size': 0.25,\n",
    "    'upper_weight': 1,\n",
    "    'lower_weight': -1,\n",
    "    'seed': 564,\n",
    "    'sigma': None,\n",
    "    'sparsity': 0.25\n",
    "}\n",
    "\n",
    "#loader_train_cifar, loader_test_mnist = loaders.return_loaders(data_name='cifar10', is_tabular=False, batch_size=1)\n",
    "loader_train_gauss, loader_test_gauss = loaders.return_loaders(data_name='gaussian', is_tabular=True,\n",
    "                                                               batch_size=5, gauss_params=params)"
   ]
  },
  {
   "cell_type": "code",
   "execution_count": 4,
   "metadata": {},
   "outputs": [],
   "source": [
    "import ML_Models.data_loader as loaders\n",
    "#loader_tr_cifar, loader_te_mnist = loaders.return_loaders(data_name='cifar10', is_tabular=False, batch_size=1)\n",
    "loader_tr_gauss, loader_te_gauss = loaders.return_loaders(data_name='gaussian', is_tabular=True,\n",
    "                                                               batch_size=5, gauss_params=params)"
   ]
  },
  {
   "cell_type": "code",
   "execution_count": 5,
   "metadata": {},
   "outputs": [],
   "source": [
    "'''\n",
    "Gaussian Data DGP\n",
    "'''\n",
    "gauss_train_input = loader_train_gauss.dataset.ground_truth_dict\n",
    "data_iter = iter(loader_train_gauss)\n",
    "inputs, labels, weights, masks, masked_weights, probs, cluster_idx = data_iter.next()\n",
    "gaussian_all = torch.FloatTensor(loader_train_gauss.dataset.data)"
   ]
  },
  {
   "cell_type": "code",
   "execution_count": 6,
   "metadata": {},
   "outputs": [],
   "source": [
    "'''\n",
    "Load ML Models\n",
    "'''\n",
    "model_path = 'ML_Models/Saved_Models/ANN/gaussian_lr_0.002_acc_0.91.pt'\n",
    "ann = model_ann.ANN_softmax(20, hidden_layer_1=100, num_of_classes=2)\n",
    "ann.load_state_dict(torch.load(model_path, map_location=torch.device('cpu')))\n",
    "\n",
    "# Testing whether the outputs work\n",
    "a = ann(inputs.float())\n",
    "b = ann.predict(inputs.float())\n",
    "c = ann.predict_proba(inputs.float())"
   ]
  },
  {
   "cell_type": "code",
   "execution_count": 7,
   "metadata": {},
   "outputs": [],
   "source": [
    "inp = inputs.detach().float()[0,:].reshape(1,-1)\n",
    "lab = labels.type(torch.int64)[0]"
   ]
  },
  {
   "cell_type": "code",
   "execution_count": 8,
   "metadata": {},
   "outputs": [
    {
     "data": {
      "text/plain": [
       "tensor([[0.3687, 0.2564, 0.2482, 0.2223, 0.3330, 0.6314, 0.2301, 0.3010, 0.2758,\n",
       "         0.2113, 0.4511, 0.5057, 0.6350, 0.6913, 0.6565, 0.5608, 0.1720, 0.1148,\n",
       "         0.3965, 0.3110]])"
      ]
     },
     "execution_count": 8,
     "metadata": {},
     "output_type": "execute_result"
    }
   ],
   "source": [
    "# this is my sample of interest [1, 20], therefore we apply reshape(-1) when we use the perturbation methods below\n",
    "inp"
   ]
  },
  {
   "cell_type": "code",
   "execution_count": 9,
   "metadata": {},
   "outputs": [],
   "source": [
    "# those will be my data samples for the bootstrapped method below\n",
    "data_samples = inputs.detach().float()"
   ]
  },
  {
   "cell_type": "code",
   "execution_count": 10,
   "metadata": {},
   "outputs": [
    {
     "data": {
      "text/plain": [
       "torch.Size([5, 20])"
      ]
     },
     "execution_count": 10,
     "metadata": {},
     "output_type": "execute_result"
    }
   ],
   "source": [
    "# size of the data samples for the bootstrap perturbations\n",
    "data_samples.shape"
   ]
  },
  {
   "cell_type": "code",
   "execution_count": 11,
   "metadata": {},
   "outputs": [
    {
     "data": {
      "text/plain": [
       "tensor([[0.3687, 0.2564, 0.2482, 0.2223, 0.3330, 0.6314, 0.2301, 0.3010, 0.2758,\n",
       "         0.2113, 0.4511, 0.5057, 0.6350, 0.6913, 0.6565, 0.5608, 0.1720, 0.1148,\n",
       "         0.3965, 0.3110],\n",
       "        [0.7040, 0.3417, 0.4224, 0.2571, 0.3039, 0.2761, 0.3564, 0.2528, 0.2377,\n",
       "         0.1400, 0.4421, 0.3737, 0.5200, 0.3879, 0.5097, 0.6795, 0.3858, 0.4028,\n",
       "         0.3159, 0.6617],\n",
       "        [0.3995, 0.3047, 0.2831, 0.3034, 0.3003, 0.3001, 0.3407, 0.4103, 0.7625,\n",
       "         0.3852, 0.5477, 0.3525, 0.6206, 0.5275, 0.6039, 0.5971, 0.4006, 0.3004,\n",
       "         0.4707, 0.6525],\n",
       "        [0.3390, 0.2415, 0.2577, 0.3175, 0.3584, 0.3761, 0.8605, 0.3469, 0.2316,\n",
       "         0.1793, 0.2995, 0.6684, 0.6059, 0.5728, 0.4847, 0.5867, 0.4978, 0.6036,\n",
       "         0.5176, 0.7156],\n",
       "        [0.2748, 0.1610, 0.3119, 0.2756, 0.2680, 0.4208, 0.2265, 0.7890, 0.3026,\n",
       "         0.2550, 0.2556, 0.6277, 0.2430, 0.6615, 0.3701, 0.6505, 0.4216, 0.5838,\n",
       "         0.5706, 0.6603]])"
      ]
     },
     "execution_count": 11,
     "metadata": {},
     "output_type": "execute_result"
    }
   ],
   "source": [
    "# show actual samples\n",
    "data_samples"
   ]
  },
  {
   "cell_type": "markdown",
   "metadata": {},
   "source": [
    "# Testing Perturbation Methods on Tabular Data"
   ]
  },
  {
   "cell_type": "code",
   "execution_count": 12,
   "metadata": {},
   "outputs": [
    {
     "name": "stdout",
     "output_type": "stream",
     "text": [
      "Generating Random Perturbations....\n",
      "torch.Size([10, 20])\n",
      "Generating Uniform Perturbations....\n",
      "torch.Size([10, 20])\n",
      "Generating Marginal Perturbations....\n",
      "torch.Size([43, 20])\n",
      "Generating Bootstrap Perturbations....\n",
      "torch.Size([3, 20])\n"
     ]
    },
    {
     "name": "stderr",
     "output_type": "stream",
     "text": [
      "To copy construct from a tensor, it is recommended to use sourceTensor.clone().detach() or sourceTensor.clone().detach().requires_grad_(True), rather than torch.tensor(sourceTensor).\n",
      "To copy construct from a tensor, it is recommended to use sourceTensor.clone().detach() or sourceTensor.clone().detach().requires_grad_(True), rather than torch.tensor(sourceTensor).\n",
      "To copy construct from a tensor, it is recommended to use sourceTensor.clone().detach() or sourceTensor.clone().detach().requires_grad_(True), rather than torch.tensor(sourceTensor).\n"
     ]
    }
   ],
   "source": [
    "'''\n",
    "Testing Perturbation Methods\n",
    "'''\n",
    "\n",
    "feature_mask = masks[0]\n",
    "inp = inputs.detach().float()[0,:].reshape(1,-1)\n",
    "data_samples = inputs.detach().float()\n",
    "\n",
    "print(\"Generating Random Perturbations....\")\n",
    "perturbation_method = RandomPerturbation(\"tabular\")\n",
    "num_samples = 10\n",
    "max_distance = 4\n",
    "perturbed_inp = perturbation_method.get_perturbed_inputs(inp.reshape(-1), feature_mask, num_samples, max_distance)\n",
    "print(perturbed_inp.shape)\n",
    "\n",
    "print(\"Generating Uniform Perturbations....\")\n",
    "perturbation_method = UniformPerturbation(\"tabular\")\n",
    "perturbed_inp = perturbation_method.get_perturbed_inputs(inp.reshape(-1), feature_mask, num_samples, max_distance)\n",
    "print(perturbed_inp.shape)\n",
    "\n",
    "print(\"Generating Marginal Perturbations....\")\n",
    "perturbation_method = MarginalPerturbation(\"tabular\", \n",
    "                                           [tdist.Normal(0,5), tdist.Normal(1,6), \n",
    "                                            tdist.Normal(0,5), tdist.Normal(1,6),\n",
    "                                            tdist.Normal(0,5), tdist.Normal(1,6), \n",
    "                                            tdist.Normal(0,5), tdist.Normal(1,6),\n",
    "                                            tdist.Normal(0,5), tdist.Normal(1,6),\n",
    "                                            tdist.Normal(0,5), tdist.Normal(1,6),\n",
    "                                            tdist.Normal(0,5), tdist.Normal(1,6),\n",
    "                                            tdist.Normal(0,5), tdist.Normal(1,6),\n",
    "                                            tdist.Normal(0,5), tdist.Normal(1,6),\n",
    "                                            tdist.Normal(0,5), tdist.Normal(1,6)])\n",
    "num_samples = 100\n",
    "max_distance = 30\n",
    "perturbed_inp_m = perturbation_method.get_perturbed_inputs(inp.reshape(-1), feature_mask, num_samples, max_distance)\n",
    "print(perturbed_inp_m.shape)\n",
    "\n",
    "print(\"Generating Bootstrap Perturbations....\")\n",
    "perturbation_method = BootstrapPerturbation(\"tabular\")\n",
    "num_samples = 3\n",
    "max_distance = 100\n",
    "perturbed_inp = perturbation_method.get_perturbed_inputs(inp.reshape(-1), feature_mask, num_samples, max_distance, data_samples)\n",
    "print(perturbed_inp.shape)"
   ]
  },
  {
   "cell_type": "markdown",
   "metadata": {},
   "source": [
    "# Testing Explanations Methods on Tabular Data"
   ]
  },
  {
   "cell_type": "code",
   "execution_count": 13,
   "metadata": {},
   "outputs": [
    {
     "data": {
      "application/vnd.jupyter.widget-view+json": {
       "model_id": "9fb2c7c11b124894b4c5354c83e19d9c",
       "version_major": 2,
       "version_minor": 0
      },
      "text/plain": [
       "HBox(children=(FloatProgress(value=0.0, max=1.0), HTML(value='')))"
      ]
     },
     "metadata": {},
     "output_type": "display_data"
    },
    {
     "name": "stdout",
     "output_type": "stream",
     "text": [
      "\n",
      "shape: (1, 20)\n"
     ]
    },
    {
     "name": "stderr",
     "output_type": "stream",
     "text": [
      "l1_reg=\"auto\" is deprecated and in the next version (v0.29) the behavior will change from a conditional use of AIC to simply \"num_features(10)\"!\n",
      "l1_reg=\"auto\" is deprecated and in the next version (v0.29) the behavior will change from a conditional use of AIC to simply \"num_features(10)\"!\n"
     ]
    },
    {
     "data": {
      "text/html": [
       "<div>\n",
       "<style scoped>\n",
       "    .dataframe tbody tr th:only-of-type {\n",
       "        vertical-align: middle;\n",
       "    }\n",
       "\n",
       "    .dataframe tbody tr th {\n",
       "        vertical-align: top;\n",
       "    }\n",
       "\n",
       "    .dataframe thead th {\n",
       "        text-align: right;\n",
       "    }\n",
       "</style>\n",
       "<table border=\"1\" class=\"dataframe\">\n",
       "  <thead>\n",
       "    <tr style=\"text-align: right;\">\n",
       "      <th></th>\n",
       "      <th>0</th>\n",
       "      <th>1</th>\n",
       "      <th>2</th>\n",
       "      <th>3</th>\n",
       "      <th>4</th>\n",
       "      <th>5</th>\n",
       "      <th>6</th>\n",
       "      <th>7</th>\n",
       "      <th>8</th>\n",
       "      <th>9</th>\n",
       "      <th>10</th>\n",
       "      <th>11</th>\n",
       "      <th>12</th>\n",
       "      <th>13</th>\n",
       "      <th>14</th>\n",
       "      <th>15</th>\n",
       "      <th>16</th>\n",
       "      <th>17</th>\n",
       "      <th>18</th>\n",
       "      <th>19</th>\n",
       "    </tr>\n",
       "  </thead>\n",
       "  <tbody>\n",
       "    <tr>\n",
       "      <th>0</th>\n",
       "      <td>-0.066147</td>\n",
       "      <td>0.0</td>\n",
       "      <td>0.038725</td>\n",
       "      <td>0.0</td>\n",
       "      <td>0.006073</td>\n",
       "      <td>0.042875</td>\n",
       "      <td>-0.031176</td>\n",
       "      <td>-0.010332</td>\n",
       "      <td>-0.006598</td>\n",
       "      <td>0.007894</td>\n",
       "      <td>0.0</td>\n",
       "      <td>-0.002524</td>\n",
       "      <td>-0.087667</td>\n",
       "      <td>0.0</td>\n",
       "      <td>0.0</td>\n",
       "      <td>0.0</td>\n",
       "      <td>0.036734</td>\n",
       "      <td>0.107897</td>\n",
       "      <td>-0.075051</td>\n",
       "      <td>-0.108214</td>\n",
       "    </tr>\n",
       "  </tbody>\n",
       "</table>\n",
       "</div>"
      ],
      "text/plain": [
       "         0    1         2    3         4         5         6         7   \\\n",
       "0 -0.066147  0.0  0.038725  0.0  0.006073  0.042875 -0.031176 -0.010332   \n",
       "\n",
       "         8         9    10        11        12   13   14   15        16  \\\n",
       "0 -0.006598  0.007894  0.0 -0.002524 -0.087667  0.0  0.0  0.0  0.036734   \n",
       "\n",
       "         17        18        19  \n",
       "0  0.107897 -0.075051 -0.108214  "
      ]
     },
     "execution_count": 13,
     "metadata": {},
     "output_type": "execute_result"
    }
   ],
   "source": [
    "'''\n",
    "Testing SHAP on Gaussian Data\n",
    "Note that this is Explaining P(y|x)\n",
    "'''\n",
    "shap = SHAPExplainer(ann.predict, gaussian_all[0:100,:].detach())\n",
    "exp_shap = shap.get_explanation(inp).numpy()\n",
    "exp_shap = pd.DataFrame(exp_shap)\n",
    "print('shape:', exp_shap.shape)\n",
    "exp_shap.head()"
   ]
  },
  {
   "cell_type": "code",
   "execution_count": 14,
   "metadata": {},
   "outputs": [
    {
     "name": "stderr",
     "output_type": "stream",
     "text": [
      "100%|████████████████████████████████████████████████████████████████████████████████████| 1/1 [00:08<00:00,  8.68s/it]"
     ]
    },
    {
     "name": "stdout",
     "output_type": "stream",
     "text": [
      "shape: (1, 20)\n"
     ]
    },
    {
     "name": "stderr",
     "output_type": "stream",
     "text": [
      "\n"
     ]
    },
    {
     "data": {
      "text/html": [
       "<div>\n",
       "<style scoped>\n",
       "    .dataframe tbody tr th:only-of-type {\n",
       "        vertical-align: middle;\n",
       "    }\n",
       "\n",
       "    .dataframe tbody tr th {\n",
       "        vertical-align: top;\n",
       "    }\n",
       "\n",
       "    .dataframe thead th {\n",
       "        text-align: right;\n",
       "    }\n",
       "</style>\n",
       "<table border=\"1\" class=\"dataframe\">\n",
       "  <thead>\n",
       "    <tr style=\"text-align: right;\">\n",
       "      <th></th>\n",
       "      <th>0</th>\n",
       "      <th>1</th>\n",
       "      <th>2</th>\n",
       "      <th>3</th>\n",
       "      <th>4</th>\n",
       "      <th>5</th>\n",
       "      <th>6</th>\n",
       "      <th>7</th>\n",
       "      <th>8</th>\n",
       "      <th>9</th>\n",
       "      <th>10</th>\n",
       "      <th>11</th>\n",
       "      <th>12</th>\n",
       "      <th>13</th>\n",
       "      <th>14</th>\n",
       "      <th>15</th>\n",
       "      <th>16</th>\n",
       "      <th>17</th>\n",
       "      <th>18</th>\n",
       "      <th>19</th>\n",
       "    </tr>\n",
       "  </thead>\n",
       "  <tbody>\n",
       "    <tr>\n",
       "      <th>0</th>\n",
       "      <td>0.040293</td>\n",
       "      <td>-0.005993</td>\n",
       "      <td>0.040429</td>\n",
       "      <td>-0.006859</td>\n",
       "      <td>0.039962</td>\n",
       "      <td>0.018967</td>\n",
       "      <td>-0.024141</td>\n",
       "      <td>-0.038742</td>\n",
       "      <td>-0.033103</td>\n",
       "      <td>0.044965</td>\n",
       "      <td>0.001036</td>\n",
       "      <td>-0.004944</td>\n",
       "      <td>-0.069791</td>\n",
       "      <td>0.003876</td>\n",
       "      <td>0.004197</td>\n",
       "      <td>0.009208</td>\n",
       "      <td>0.020861</td>\n",
       "      <td>0.008258</td>\n",
       "      <td>-0.097125</td>\n",
       "      <td>-0.088714</td>\n",
       "    </tr>\n",
       "  </tbody>\n",
       "</table>\n",
       "</div>"
      ],
      "text/plain": [
       "         0         1         2         3         4         5         6   \\\n",
       "0  0.040293 -0.005993  0.040429 -0.006859  0.039962  0.018967 -0.024141   \n",
       "\n",
       "         7         8         9         10        11        12        13  \\\n",
       "0 -0.038742 -0.033103  0.044965  0.001036 -0.004944 -0.069791  0.003876   \n",
       "\n",
       "         14        15        16        17        18        19  \n",
       "0  0.004197  0.009208  0.020861  0.008258 -0.097125 -0.088714  "
      ]
     },
     "execution_count": 14,
     "metadata": {},
     "output_type": "execute_result"
    }
   ],
   "source": [
    "'''\n",
    "Testing LIME on Gaussian Data\n",
    "Note that this is Explaining P(y|x)\n",
    "'''\n",
    "lime = LIME(ann.predict, gaussian_all)\n",
    "exp_lime = lime.get_explanation(inp).numpy()\n",
    "exp_lime = pd.DataFrame(exp_lime)\n",
    "print('shape:', exp_lime.shape)\n",
    "exp_lime.head()"
   ]
  },
  {
   "cell_type": "code",
   "execution_count": 15,
   "metadata": {},
   "outputs": [
    {
     "name": "stderr",
     "output_type": "stream",
     "text": [
      "Input Tensor 0 did not already require gradients, required_grads has been set automatically.\n"
     ]
    }
   ],
   "source": [
    "'''\n",
    "Testing Grad on Gaussian Data\n",
    "Note that this is Explaining f(x), i.e., the logit score\n",
    "All methods below explain the logit score\n",
    "'''\n",
    "\n",
    "grad = Gradient(ann)\n",
    "exp_grad = grad.get_explanation(inp, lab)\n",
    "#exp_grad = pd.DataFrame(exp_grad)\n",
    "#exp_grad.head()"
   ]
  },
  {
   "cell_type": "code",
   "execution_count": 16,
   "metadata": {},
   "outputs": [
    {
     "data": {
      "text/html": [
       "<div>\n",
       "<style scoped>\n",
       "    .dataframe tbody tr th:only-of-type {\n",
       "        vertical-align: middle;\n",
       "    }\n",
       "\n",
       "    .dataframe tbody tr th {\n",
       "        vertical-align: top;\n",
       "    }\n",
       "\n",
       "    .dataframe thead th {\n",
       "        text-align: right;\n",
       "    }\n",
       "</style>\n",
       "<table border=\"1\" class=\"dataframe\">\n",
       "  <thead>\n",
       "    <tr style=\"text-align: right;\">\n",
       "      <th></th>\n",
       "      <th>0</th>\n",
       "      <th>1</th>\n",
       "      <th>2</th>\n",
       "      <th>3</th>\n",
       "      <th>4</th>\n",
       "      <th>5</th>\n",
       "      <th>6</th>\n",
       "      <th>7</th>\n",
       "      <th>8</th>\n",
       "      <th>9</th>\n",
       "      <th>10</th>\n",
       "      <th>11</th>\n",
       "      <th>12</th>\n",
       "      <th>13</th>\n",
       "      <th>14</th>\n",
       "      <th>15</th>\n",
       "      <th>16</th>\n",
       "      <th>17</th>\n",
       "      <th>18</th>\n",
       "      <th>19</th>\n",
       "    </tr>\n",
       "  </thead>\n",
       "  <tbody>\n",
       "    <tr>\n",
       "      <th>0</th>\n",
       "      <td>0.144879</td>\n",
       "      <td>-0.056206</td>\n",
       "      <td>0.047392</td>\n",
       "      <td>-0.046201</td>\n",
       "      <td>0.018836</td>\n",
       "      <td>0.68644</td>\n",
       "      <td>-0.06687</td>\n",
       "      <td>0.027381</td>\n",
       "      <td>0.100618</td>\n",
       "      <td>-0.281676</td>\n",
       "      <td>0.017795</td>\n",
       "      <td>-0.013474</td>\n",
       "      <td>-0.681632</td>\n",
       "      <td>-0.043585</td>\n",
       "      <td>-0.083226</td>\n",
       "      <td>0.015318</td>\n",
       "      <td>-0.047155</td>\n",
       "      <td>-0.039344</td>\n",
       "      <td>0.10547</td>\n",
       "      <td>0.448124</td>\n",
       "    </tr>\n",
       "  </tbody>\n",
       "</table>\n",
       "</div>"
      ],
      "text/plain": [
       "         0         1         2         3         4        5        6   \\\n",
       "0  0.144879 -0.056206  0.047392 -0.046201  0.018836  0.68644 -0.06687   \n",
       "\n",
       "         7         8         9         10        11        12        13  \\\n",
       "0  0.027381  0.100618 -0.281676  0.017795 -0.013474 -0.681632 -0.043585   \n",
       "\n",
       "         14        15        16        17       18        19  \n",
       "0 -0.083226  0.015318 -0.047155 -0.039344  0.10547  0.448124  "
      ]
     },
     "execution_count": 16,
     "metadata": {},
     "output_type": "execute_result"
    }
   ],
   "source": [
    "'''\n",
    "Testing IG on Gaussian Data\n",
    "'''\n",
    "ig = IntegratedGradients(ann)\n",
    "exp_ig = ig.get_explanation(inp, lab).numpy()\n",
    "exp_ig = pd.DataFrame(exp_ig)\n",
    "exp_ig.head()"
   ]
  },
  {
   "cell_type": "code",
   "execution_count": 17,
   "metadata": {},
   "outputs": [
    {
     "name": "stderr",
     "output_type": "stream",
     "text": [
      "Input Tensor 0 did not already require gradients, required_grads has been set automatically.\n"
     ]
    },
    {
     "data": {
      "text/html": [
       "<div>\n",
       "<style scoped>\n",
       "    .dataframe tbody tr th:only-of-type {\n",
       "        vertical-align: middle;\n",
       "    }\n",
       "\n",
       "    .dataframe tbody tr th {\n",
       "        vertical-align: top;\n",
       "    }\n",
       "\n",
       "    .dataframe thead th {\n",
       "        text-align: right;\n",
       "    }\n",
       "</style>\n",
       "<table border=\"1\" class=\"dataframe\">\n",
       "  <thead>\n",
       "    <tr style=\"text-align: right;\">\n",
       "      <th></th>\n",
       "      <th>0</th>\n",
       "      <th>1</th>\n",
       "      <th>2</th>\n",
       "      <th>3</th>\n",
       "      <th>4</th>\n",
       "      <th>5</th>\n",
       "      <th>6</th>\n",
       "      <th>7</th>\n",
       "      <th>8</th>\n",
       "      <th>9</th>\n",
       "      <th>10</th>\n",
       "      <th>11</th>\n",
       "      <th>12</th>\n",
       "      <th>13</th>\n",
       "      <th>14</th>\n",
       "      <th>15</th>\n",
       "      <th>16</th>\n",
       "      <th>17</th>\n",
       "      <th>18</th>\n",
       "      <th>19</th>\n",
       "    </tr>\n",
       "  </thead>\n",
       "  <tbody>\n",
       "    <tr>\n",
       "      <th>0</th>\n",
       "      <td>0.391584</td>\n",
       "      <td>0.097225</td>\n",
       "      <td>0.067636</td>\n",
       "      <td>-0.105617</td>\n",
       "      <td>-0.454665</td>\n",
       "      <td>2.697986</td>\n",
       "      <td>-0.36067</td>\n",
       "      <td>0.048904</td>\n",
       "      <td>0.17998</td>\n",
       "      <td>-1.240863</td>\n",
       "      <td>0.067635</td>\n",
       "      <td>-0.008622</td>\n",
       "      <td>-3.296016</td>\n",
       "      <td>-0.145805</td>\n",
       "      <td>-0.156001</td>\n",
       "      <td>0.14531</td>\n",
       "      <td>-0.216947</td>\n",
       "      <td>-0.178625</td>\n",
       "      <td>0.188929</td>\n",
       "      <td>1.662914</td>\n",
       "    </tr>\n",
       "  </tbody>\n",
       "</table>\n",
       "</div>"
      ],
      "text/plain": [
       "         0         1         2         3         4         5        6   \\\n",
       "0  0.391584  0.097225  0.067636 -0.105617 -0.454665  2.697986 -0.36067   \n",
       "\n",
       "         7        8         9         10        11        12        13  \\\n",
       "0  0.048904  0.17998 -1.240863  0.067635 -0.008622 -3.296016 -0.145805   \n",
       "\n",
       "         14       15        16        17        18        19  \n",
       "0 -0.156001  0.14531 -0.216947 -0.178625  0.188929  1.662914  "
      ]
     },
     "execution_count": 17,
     "metadata": {},
     "output_type": "execute_result"
    }
   ],
   "source": [
    "'''\n",
    "Testing InputTimesGradient on Gaussian Data\n",
    "'''\n",
    "itg = InputTimesGradient(ann)\n",
    "exp_itg = itg.get_explanation(inp, lab).detach().numpy()\n",
    "exp_itg = pd.DataFrame(exp_itg)\n",
    "exp_itg.head()"
   ]
  },
  {
   "cell_type": "code",
   "execution_count": 18,
   "metadata": {},
   "outputs": [
    {
     "data": {
      "text/html": [
       "<div>\n",
       "<style scoped>\n",
       "    .dataframe tbody tr th:only-of-type {\n",
       "        vertical-align: middle;\n",
       "    }\n",
       "\n",
       "    .dataframe tbody tr th {\n",
       "        vertical-align: top;\n",
       "    }\n",
       "\n",
       "    .dataframe thead th {\n",
       "        text-align: right;\n",
       "    }\n",
       "</style>\n",
       "<table border=\"1\" class=\"dataframe\">\n",
       "  <thead>\n",
       "    <tr style=\"text-align: right;\">\n",
       "      <th></th>\n",
       "      <th>0</th>\n",
       "      <th>1</th>\n",
       "      <th>2</th>\n",
       "      <th>3</th>\n",
       "      <th>4</th>\n",
       "      <th>5</th>\n",
       "      <th>6</th>\n",
       "      <th>7</th>\n",
       "      <th>8</th>\n",
       "      <th>9</th>\n",
       "      <th>10</th>\n",
       "      <th>11</th>\n",
       "      <th>12</th>\n",
       "      <th>13</th>\n",
       "      <th>14</th>\n",
       "      <th>15</th>\n",
       "      <th>16</th>\n",
       "      <th>17</th>\n",
       "      <th>18</th>\n",
       "      <th>19</th>\n",
       "    </tr>\n",
       "  </thead>\n",
       "  <tbody>\n",
       "    <tr>\n",
       "      <th>0</th>\n",
       "      <td>0.07917</td>\n",
       "      <td>0.031182</td>\n",
       "      <td>0.035213</td>\n",
       "      <td>0.041974</td>\n",
       "      <td>0.066472</td>\n",
       "      <td>0.022435</td>\n",
       "      <td>0.05428</td>\n",
       "      <td>0.094949</td>\n",
       "      <td>0.082361</td>\n",
       "      <td>0.1051</td>\n",
       "      <td>0.005519</td>\n",
       "      <td>0.011075</td>\n",
       "      <td>0.085278</td>\n",
       "      <td>0.010248</td>\n",
       "      <td>0.058124</td>\n",
       "      <td>0.007741</td>\n",
       "      <td>0.024389</td>\n",
       "      <td>0.015419</td>\n",
       "      <td>0.145726</td>\n",
       "      <td>0.060176</td>\n",
       "    </tr>\n",
       "  </tbody>\n",
       "</table>\n",
       "</div>"
      ],
      "text/plain": [
       "        0         1         2         3         4         5        6   \\\n",
       "0  0.07917  0.031182  0.035213  0.041974  0.066472  0.022435  0.05428   \n",
       "\n",
       "         7         8       9         10        11        12        13  \\\n",
       "0  0.094949  0.082361  0.1051  0.005519  0.011075  0.085278  0.010248   \n",
       "\n",
       "         14        15        16        17        18        19  \n",
       "0  0.058124  0.007741  0.024389  0.015419  0.145726  0.060176  "
      ]
     },
     "execution_count": 18,
     "metadata": {},
     "output_type": "execute_result"
    }
   ],
   "source": [
    "'''\n",
    "Testing SmoothGrad on Gaussian Data\n",
    "'''\n",
    "sg = SmoothGrad(ann)\n",
    "exp_sg = sg.get_explanation(inp, lab).numpy()\n",
    "exp_sg = pd.DataFrame(exp_sg)\n",
    "exp_sg.head()"
   ]
  },
  {
   "cell_type": "code",
   "execution_count": 19,
   "metadata": {},
   "outputs": [],
   "source": [
    "'''\n",
    "Testing EBP on Gaussian Data\n",
    "'''\n",
    "ebp = EBP(ann)\n",
    "exp_ebp = ebp.get_explanation(inp, lab)\n",
    "#exp_ebp = pd.DataFrame(exp_ebp)\n",
    "#exp_ebp.head()"
   ]
  },
  {
   "cell_type": "code",
   "execution_count": 20,
   "metadata": {},
   "outputs": [
    {
     "data": {
      "text/plain": [
       "'\\nTesting GradCAM on Gaussian Data\\n'"
      ]
     },
     "execution_count": 20,
     "metadata": {},
     "output_type": "execute_result"
    }
   ],
   "source": [
    "'''\n",
    "Testing GradCAM on Gaussian Data\n",
    "'''\n",
    "#gradcam = GradCAM(ann, ann.input2)\n",
    "#exp_gradcam = gradcam.get_explanation(inp, lab)\n",
    "#exp_gradcam = pd.DataFrame(exp_gradcam)\n",
    "#exp_gradcam.head()"
   ]
  },
  {
   "cell_type": "code",
   "execution_count": 21,
   "metadata": {},
   "outputs": [
    {
     "data": {
      "text/plain": [
       "'\\nTesting GuidedGradCAM on Gaussian Data\\n'"
      ]
     },
     "execution_count": 21,
     "metadata": {},
     "output_type": "execute_result"
    }
   ],
   "source": [
    "'''\n",
    "Testing GuidedGradCAM on Gaussian Data\n",
    "'''\n",
    "#ggc = GuidedGradCAM(ann, ann.input1)\n",
    "#ggc_exp = ggc.get_explanation(inp, lab)\n",
    "#ggc_exp = pd.DataFrame(ggc_exp)\n",
    "#ggc_exp.head()"
   ]
  },
  {
   "cell_type": "code",
   "execution_count": 22,
   "metadata": {},
   "outputs": [
    {
     "data": {
      "text/plain": [
       "'\\nTesting LRP on Gaussian Data\\n'"
      ]
     },
     "execution_count": 22,
     "metadata": {},
     "output_type": "execute_result"
    }
   ],
   "source": [
    "'''\n",
    "Testing LRP on Gaussian Data\n",
    "'''\n",
    "#lrp = LRP(ann)\n",
    "#exp_lrp = lrp.get_explanation(inp, lab)\n",
    "#exp_lrp = pd.DataFrame(exp_lrp)\n",
    "#exp_lrp.head()"
   ]
  },
  {
   "cell_type": "code",
   "execution_count": 23,
   "metadata": {},
   "outputs": [
    {
     "data": {
      "text/plain": [
       "torch.Size([1, 20])"
      ]
     },
     "execution_count": 23,
     "metadata": {},
     "output_type": "execute_result"
    }
   ],
   "source": [
    "inputs[0].unsqueeze(0).shape"
   ]
  },
  {
   "cell_type": "code",
   "execution_count": 24,
   "metadata": {},
   "outputs": [],
   "source": [
    "input_dict = {}\n",
    "input_dict['x'] = inputs[0].reshape(-1)\n",
    "input_dict['explainer'] = grad\n",
    "input_dict['explanation_x'] = exp_grad\n",
    "perturbation = UniformPerturbation(\"tabular\")\n",
    "input_dict['perturbation'] = perturbation\n",
    "input_dict['L_map'] = ann.L_relu\n",
    "input_dict['p_norm'] = 2\n",
    "input_dict['top_k'] = 1\n",
    "input_dict['eval_metric'] = 'eval_relative_stability'\n",
    "input_dict['perturb_max_distance'] = 4\n",
    "input_dict['perturb_method'] = 'RandomPerturbation'\n",
    "input_dict['y'] = labels[0].detach().item()\n",
    "input_dict['y_pred'] = torch.max(ann(inputs[0].unsqueeze(0).float()), 1).indices.detach().item()"
   ]
  },
  {
   "cell_type": "code",
   "execution_count": 25,
   "metadata": {},
   "outputs": [
    {
     "data": {
      "text/plain": [
       "True"
      ]
     },
     "execution_count": 25,
     "metadata": {},
     "output_type": "execute_result"
    }
   ],
   "source": [
    "'explanation_x' in input_dict"
   ]
  },
  {
   "cell_type": "code",
   "execution_count": 26,
   "metadata": {},
   "outputs": [
    {
     "name": "stdout",
     "output_type": "stream",
     "text": [
      "{'x': tensor([0.3687, 0.2564, 0.2482, 0.2223, 0.3330, 0.6314, 0.2301, 0.3010, 0.2758,\n",
      "        0.2113, 0.4511, 0.5057, 0.6350, 0.6913, 0.6565, 0.5608, 0.1720, 0.1148,\n",
      "        0.3965, 0.3110], dtype=torch.float64), 'explainer': Gradient(\n",
      "  (model): ANN_softmax(\n",
      "    (input1): Linear(in_features=20, out_features=100, bias=True)\n",
      "    (input2): Linear(in_features=100, out_features=2, bias=True)\n",
      "    (relu): ReLU()\n",
      "    (softmax): Softmax(dim=1)\n",
      "  )\n",
      "), 'explanation_x': tensor([[1.0621, 0.3792, 0.2725, 0.4752, 1.3652, 4.2729, 1.5677, 0.1625, 0.6526,\n",
      "         5.8718, 0.1499, 0.0170, 5.1906, 0.2109, 0.2376, 0.2591, 1.2610, 1.5559,\n",
      "         0.4765, 5.3472]]), 'perturbation': <explainers.perturbation_methods.UniformPerturbation object at 0x0000026D3A25C2E8>, 'L_map': <bound method ANN_softmax.L_relu of ANN_softmax(\n",
      "  (input1): Linear(in_features=20, out_features=100, bias=True)\n",
      "  (input2): Linear(in_features=100, out_features=2, bias=True)\n",
      "  (relu): ReLU()\n",
      "  (softmax): Softmax(dim=1)\n",
      ")>, 'p_norm': 2, 'top_k': 1, 'eval_metric': 'eval_relative_stability', 'perturb_max_distance': 4, 'perturb_method': 'RandomPerturbation', 'y': 1, 'y_pred': 0}\n"
     ]
    },
    {
     "ename": "AttributeError",
     "evalue": "'str' object has no attribute 'get_perturbed_inputs'",
     "output_type": "error",
     "traceback": [
      "\u001b[1;31m---------------------------------------------------------------------------\u001b[0m",
      "\u001b[1;31mAttributeError\u001b[0m                            Traceback (most recent call last)",
      "\u001b[1;32m<ipython-input-26-672b1680cf53>\u001b[0m in \u001b[0;36m<module>\u001b[1;34m\u001b[0m\n\u001b[0;32m      1\u001b[0m \u001b[0mevaluator\u001b[0m \u001b[1;33m=\u001b[0m \u001b[0mEvaluator\u001b[0m\u001b[1;33m(\u001b[0m\u001b[0minput_dict\u001b[0m\u001b[1;33m)\u001b[0m\u001b[1;33m\u001b[0m\u001b[1;33m\u001b[0m\u001b[0m\n\u001b[1;32m----> 2\u001b[1;33m \u001b[0mstability\u001b[0m\u001b[1;33m,\u001b[0m \u001b[0mstability_ratios\u001b[0m\u001b[1;33m,\u001b[0m \u001b[0mrep_diffs\u001b[0m\u001b[1;33m,\u001b[0m \u001b[0mx_diffs\u001b[0m\u001b[1;33m,\u001b[0m \u001b[0mexp_diffs\u001b[0m \u001b[1;33m=\u001b[0m \u001b[0mevaluator\u001b[0m\u001b[1;33m.\u001b[0m\u001b[0meval_relative_stability\u001b[0m\u001b[1;33m(\u001b[0m\u001b[0mdelta\u001b[0m\u001b[1;33m=\u001b[0m\u001b[1;36m1e10\u001b[0m\u001b[1;33m)\u001b[0m\u001b[1;33m\u001b[0m\u001b[1;33m\u001b[0m\u001b[0m\n\u001b[0m",
      "\u001b[1;32m~\\Documents\\test2\\XAI-benchmark\\xai-benchmark\\evaluator.py\u001b[0m in \u001b[0;36meval_relative_stability\u001b[1;34m(self, num_samples, rep_denominator_flag, delta, compute_exp_using_predicted_class)\u001b[0m\n\u001b[0;32m    230\u001b[0m         \u001b[0mself\u001b[0m\u001b[1;33m.\u001b[0m\u001b[0m_parse_and_check_input\u001b[0m\u001b[1;33m(\u001b[0m\u001b[0meval_metric\u001b[0m \u001b[1;33m=\u001b[0m \u001b[1;34m'eval_relative_stability'\u001b[0m\u001b[1;33m)\u001b[0m\u001b[1;33m\u001b[0m\u001b[1;33m\u001b[0m\u001b[0m\n\u001b[0;32m    231\u001b[0m \u001b[1;33m\u001b[0m\u001b[0m\n\u001b[1;32m--> 232\u001b[1;33m         x_prime_samples = self.perturb_method.get_perturbed_inputs(original_sample=self.x,\n\u001b[0m\u001b[0;32m    233\u001b[0m                                                                    \u001b[0mfeature_mask\u001b[0m\u001b[1;33m=\u001b[0m\u001b[0mself\u001b[0m\u001b[1;33m.\u001b[0m\u001b[0mtop_k_mask\u001b[0m\u001b[1;33m,\u001b[0m\u001b[1;33m\u001b[0m\u001b[1;33m\u001b[0m\u001b[0m\n\u001b[0;32m    234\u001b[0m                                                                    \u001b[0mnum_samples\u001b[0m\u001b[1;33m=\u001b[0m\u001b[0mnum_samples\u001b[0m\u001b[1;33m,\u001b[0m\u001b[1;33m\u001b[0m\u001b[1;33m\u001b[0m\u001b[0m\n",
      "\u001b[1;31mAttributeError\u001b[0m: 'str' object has no attribute 'get_perturbed_inputs'"
     ]
    }
   ],
   "source": [
    "evaluator = Evaluator(input_dict)\n",
    "stability, stability_ratios, rep_diffs, x_diffs, exp_diffs = evaluator.eval_relative_stability(delta=1e10)"
   ]
  }
 ],
 "metadata": {
  "kernelspec": {
   "display_name": "Python 3",
   "language": "python",
   "name": "python3"
  },
  "language_info": {
   "codemirror_mode": {
    "name": "ipython",
    "version": 3
   },
   "file_extension": ".py",
   "mimetype": "text/x-python",
   "name": "python",
   "nbconvert_exporter": "python",
   "pygments_lexer": "ipython3",
   "version": "3.6.8"
  }
 },
 "nbformat": 4,
 "nbformat_minor": 4
}
