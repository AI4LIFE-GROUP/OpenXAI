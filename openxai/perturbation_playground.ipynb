{
 "cells": [
  {
   "cell_type": "markdown",
   "id": "97325fbf",
   "metadata": {},
   "source": [
    "References:\n",
    "* https://stackoverflow.com/questions/34523111/the-most-elegant-way-to-get-back-from-pandas-df-dummies\n",
    "* https://github.com/pandas-dev/pandas/blob/v1.4.0/pandas/core/reshape/reshape.py#L811-L994"
   ]
  },
  {
   "cell_type": "code",
   "execution_count": 1,
   "id": "68b1ae01",
   "metadata": {},
   "outputs": [],
   "source": [
    "import torch\n",
    "import torch.distributions as tdist\n",
    "from typing import Any, Callable, Tuple, Union, cast\n",
    "from torch import Tensor\n",
    "from torch import nn\n",
    "from random import random\n"
   ]
  },
  {
   "cell_type": "code",
   "execution_count": 2,
   "id": "16f2dc6e",
   "metadata": {},
   "outputs": [],
   "source": [
    "import pandas as pd\n",
    "from sklearn.model_selection import train_test_split\n",
    "import numpy as np"
   ]
  },
  {
   "cell_type": "code",
   "execution_count": 3,
   "id": "37affd33",
   "metadata": {},
   "outputs": [],
   "source": [
    "import pickle"
   ]
  },
  {
   "cell_type": "code",
   "execution_count": 4,
   "id": "64c6cc71",
   "metadata": {},
   "outputs": [],
   "source": [
    "german_feature_metadata = pickle.load(open('Data_Sets/German_Credit_Data/german-feature-metadata.p', 'rb'))"
   ]
  },
  {
   "cell_type": "code",
   "execution_count": 5,
   "id": "66ce8ad7",
   "metadata": {},
   "outputs": [],
   "source": [
    "from explainers.perturbation_methods import NewDiscrete_NormalPerturbation"
   ]
  },
  {
   "cell_type": "markdown",
   "id": "3df276b8",
   "metadata": {},
   "source": [
    "## Inspect behavior of perturbation class on an existing dataset with categorical vars"
   ]
  },
  {
   "cell_type": "code",
   "execution_count": 6,
   "id": "deb18cdf",
   "metadata": {},
   "outputs": [],
   "source": [
    "perturbation = NewDiscrete_NormalPerturbation(\"tabular\", mean=0.01,\n",
    "                                              std_dev=0.01,\n",
    "                                              flip_percentage=0.5)"
   ]
  },
  {
   "cell_type": "code",
   "execution_count": 7,
   "id": "3ad07853",
   "metadata": {},
   "outputs": [],
   "source": [
    "# (Train & Test) Loaders\n",
    "import ML_Models.data_loader as loaders"
   ]
  },
  {
   "cell_type": "code",
   "execution_count": 8,
   "id": "a052f15c",
   "metadata": {},
   "outputs": [],
   "source": [
    "loader_train, loader_test = loaders.return_loaders(data_name='german', is_tabular=True,\n",
    "                                                           batch_size=16)\n",
    "data_iter = iter(loader_train)\n",
    "inputs, labels = data_iter.next()"
   ]
  },
  {
   "cell_type": "code",
   "execution_count": 9,
   "id": "a25b9c1d",
   "metadata": {},
   "outputs": [],
   "source": [
    "x_german = inputs[0]"
   ]
  },
  {
   "cell_type": "code",
   "execution_count": 10,
   "id": "9f359e44",
   "metadata": {},
   "outputs": [
    {
     "data": {
      "text/plain": [
       "torch.Size([60])"
      ]
     },
     "execution_count": 10,
     "metadata": {},
     "output_type": "execute_result"
    }
   ],
   "source": [
    "x_german.shape"
   ]
  },
  {
   "cell_type": "code",
   "execution_count": 11,
   "id": "6a1e7e46",
   "metadata": {},
   "outputs": [
    {
     "data": {
      "text/plain": [
       "tensor([1, 1, 0, 1, 1, 1, 1, 1, 1, 1, 0, 1, 1, 1, 1, 1])"
      ]
     },
     "execution_count": 11,
     "metadata": {},
     "output_type": "execute_result"
    }
   ],
   "source": [
    "labels"
   ]
  },
  {
   "cell_type": "code",
   "execution_count": 12,
   "id": "3a279981",
   "metadata": {},
   "outputs": [],
   "source": [
    "top_k_mask = torch.BoolTensor(np.zeros(x_german.shape).flatten())"
   ]
  },
  {
   "cell_type": "code",
   "execution_count": 13,
   "id": "4b2a5f33",
   "metadata": {},
   "outputs": [],
   "source": [
    "x_perturbed = perturbation.get_perturbed_inputs(original_sample=x_german,\n",
    "                                               feature_mask=top_k_mask,\n",
    "                                               num_samples=500,\n",
    "                                               max_distance=0.5,\n",
    "                                               feature_type=german_feature_metadata['feature_types'],\n",
    "                                               feature_num_cols=german_feature_metadata['feature_n_cols'])"
   ]
  },
  {
   "cell_type": "code",
   "execution_count": 14,
   "id": "14788ef8",
   "metadata": {},
   "outputs": [
    {
     "data": {
      "text/plain": [
       "tensor([0.1176, 0.0708, 0.3333, 0.3333, 0.1250, 0.0000, 0.0000, 0.0000, 1.0000,\n",
       "        0.0000, 0.0000, 0.0000, 0.0000, 0.0000, 0.0000, 1.0000, 0.0000, 0.0000,\n",
       "        1.0000, 0.0000, 0.0000, 0.0000, 0.0000, 0.0000, 0.0000, 0.0000, 0.0000,\n",
       "        0.0000, 0.0000, 0.0000, 1.0000, 0.0000, 0.0000, 0.0000, 1.0000, 0.0000,\n",
       "        0.0000, 0.0000, 1.0000, 0.0000, 0.0000, 1.0000, 0.0000, 0.0000, 0.0000,\n",
       "        0.0000, 1.0000, 0.0000, 0.0000, 0.0000, 1.0000, 0.0000, 0.0000, 1.0000,\n",
       "        0.0000, 0.0000, 1.0000, 0.0000, 1.0000, 0.0000], dtype=torch.float64)"
      ]
     },
     "execution_count": 14,
     "metadata": {},
     "output_type": "execute_result"
    }
   ],
   "source": [
    "x_german"
   ]
  },
  {
   "cell_type": "code",
   "execution_count": 15,
   "id": "9a455099",
   "metadata": {},
   "outputs": [
    {
     "data": {
      "text/plain": [
       "tensor([[0.1273, 0.0767, 0.3399,  ..., 0.0000, 0.0000, 1.0000],\n",
       "        [0.1260, 0.0913, 0.3401,  ..., 0.0000, 0.0000, 1.0000],\n",
       "        [0.1358, 0.0795, 0.3567,  ..., 0.0000, 0.0000, 1.0000],\n",
       "        ...,\n",
       "        [0.1325, 0.0748, 0.3434,  ..., 1.0000, 1.0000, 0.0000],\n",
       "        [0.1236, 0.0894, 0.3434,  ..., 1.0000, 0.0000, 1.0000],\n",
       "        [0.1220, 0.0799, 0.3448,  ..., 0.0000, 0.0000, 1.0000]],\n",
       "       dtype=torch.float64)"
      ]
     },
     "execution_count": 15,
     "metadata": {},
     "output_type": "execute_result"
    }
   ],
   "source": [
    "x_perturbed"
   ]
  },
  {
   "cell_type": "code",
   "execution_count": null,
   "id": "5005f1d4",
   "metadata": {},
   "outputs": [],
   "source": [
    "import pandas as pd\n",
    "from tqdm import tqdm\n",
    "\n",
    "# ANN models\n",
    "import torch\n",
    "import ML_Models.ANN.model as model_ann\n",
    "\n",
    "# (Train & Test) Loaders\n",
    "import ML_Models.data_loader as loaders\n",
    "\n",
    "# Explanation Models\n",
    "from explainers.lime import LIME\n",
    "from explainers.shap_explainer_captum import SHAPExplainerC\n",
    "from explainers.grad import Gradient\n",
    "from explainers.ebp import EBP\n",
    "from explainers.integrated_gradients import IntegratedGradients\n",
    "from explainers.guided_backprop import GuidedBackprop\n",
    "from explainers.smoothgrad import SmoothGrad\n",
    "from explainers.gradcam import GradCAM\n",
    "from explainers.guided_gradcam import GuidedGradCAM\n",
    "from explainers.lrp import LRP\n",
    "from explainers.input_x_gradient import InputTimesGradient\n",
    "\n",
    "# Perturbation Methods\n",
    "import torch.distributions as tdist\n",
    "# from explainers.perturbation_methods import RandomPerturbation\n",
    "# from explainers.perturbation_methods import UniformPerturbation\n",
    "# from explainers.perturbation_methods import BootstrapPerturbation\n",
    "# from explainers.perturbation_methods import MarginalPerturbation\n",
    "# from explainers.perturbation_methods import AdversarialPerturbation\n",
    "# from explainers.perturbation_methods import NormalPerturbation\n",
    "\n",
    "# Import Evaluation Methods\n",
    "from evaluator import Evaluator\n",
    "\n",
    "# lime utils\n",
    "import matplotlib.pyplot as plt\n",
    "from PIL import Image\n",
    "import torch.nn as nn\n",
    "import numpy as np\n",
    "import os, json\n",
    "\n",
    "# torch utils\n",
    "import torch\n",
    "from torchvision import models, transforms\n",
    "from torch.autograd import Variable\n",
    "import torch.nn.functional as F\n",
    "\n",
    "# experiment parameter defaults\n",
    "from experiment_config import *\n",
    "\n",
    "from tqdm import tqdm\n",
    "from functools import partialmethod\n",
    "\n",
    "tqdm.__init__ = partialmethod(tqdm.__init__, disable=True)\n",
    "\n",
    "from experiment_utils import *"
   ]
  },
  {
   "cell_type": "code",
   "execution_count": null,
   "id": "fafb2058",
   "metadata": {},
   "outputs": [],
   "source": []
  }
 ],
 "metadata": {
  "kernelspec": {
   "display_name": "Python 3 (ipykernel)",
   "language": "python",
   "name": "python3"
  },
  "language_info": {
   "codemirror_mode": {
    "name": "ipython",
    "version": 3
   },
   "file_extension": ".py",
   "mimetype": "text/x-python",
   "name": "python",
   "nbconvert_exporter": "python",
   "pygments_lexer": "ipython3",
   "version": "3.8.12"
  }
 },
 "nbformat": 4,
 "nbformat_minor": 5
}
